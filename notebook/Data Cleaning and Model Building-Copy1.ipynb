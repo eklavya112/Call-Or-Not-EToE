{
 "cells": [
  {
   "cell_type": "markdown",
   "id": "40db948d",
   "metadata": {},
   "source": [
    "## Problem Statement : \n",
    "### The data is related with direct marketing campaigns (phone calls) of a Portuguese banking institution. The classification goal is to predict if the client will subscribe a term deposit (variable y)."
   ]
  },
  {
   "cell_type": "markdown",
   "id": "ff8da960",
   "metadata": {},
   "source": [
    "### Dataset Link\n",
    "#### https://archive.ics.uci.edu/dataset/222/bank+marketing"
   ]
  },
  {
   "cell_type": "code",
   "execution_count": null,
   "id": "0f1e3ab3",
   "metadata": {},
   "outputs": [],
   "source": []
  },
  {
   "cell_type": "code",
   "execution_count": null,
   "id": "a5de0167",
   "metadata": {},
   "outputs": [],
   "source": []
  },
  {
   "cell_type": "code",
   "execution_count": null,
   "id": "441b02d6",
   "metadata": {},
   "outputs": [],
   "source": []
  },
  {
   "cell_type": "code",
   "execution_count": 1,
   "id": "e47c704b",
   "metadata": {},
   "outputs": [],
   "source": [
    "import pandas as pd\n",
    "import numpy as np\n",
    "import matplotlib.pyplot as plt\n",
    "import seaborn as sns\n",
    "import sklearn"
   ]
  },
  {
   "cell_type": "code",
   "execution_count": 2,
   "id": "e0cc92ce",
   "metadata": {},
   "outputs": [],
   "source": [
    "data = pd.read_csv(\"Bank.csv\",delimiter=';')"
   ]
  },
  {
   "cell_type": "code",
   "execution_count": 3,
   "id": "aea7837b",
   "metadata": {},
   "outputs": [
    {
     "data": {
      "text/html": [
       "<div>\n",
       "<style scoped>\n",
       "    .dataframe tbody tr th:only-of-type {\n",
       "        vertical-align: middle;\n",
       "    }\n",
       "\n",
       "    .dataframe tbody tr th {\n",
       "        vertical-align: top;\n",
       "    }\n",
       "\n",
       "    .dataframe thead th {\n",
       "        text-align: right;\n",
       "    }\n",
       "</style>\n",
       "<table border=\"1\" class=\"dataframe\">\n",
       "  <thead>\n",
       "    <tr style=\"text-align: right;\">\n",
       "      <th></th>\n",
       "      <th>age</th>\n",
       "      <th>job</th>\n",
       "      <th>marital</th>\n",
       "      <th>education</th>\n",
       "      <th>default</th>\n",
       "      <th>housing</th>\n",
       "      <th>loan</th>\n",
       "      <th>contact</th>\n",
       "      <th>month</th>\n",
       "      <th>day_of_week</th>\n",
       "      <th>...</th>\n",
       "      <th>campaign</th>\n",
       "      <th>pdays</th>\n",
       "      <th>previous</th>\n",
       "      <th>poutcome</th>\n",
       "      <th>emp.var.rate</th>\n",
       "      <th>cons.price.idx</th>\n",
       "      <th>cons.conf.idx</th>\n",
       "      <th>euribor3m</th>\n",
       "      <th>nr.employed</th>\n",
       "      <th>y</th>\n",
       "    </tr>\n",
       "  </thead>\n",
       "  <tbody>\n",
       "    <tr>\n",
       "      <th>0</th>\n",
       "      <td>56</td>\n",
       "      <td>housemaid</td>\n",
       "      <td>married</td>\n",
       "      <td>basic.4y</td>\n",
       "      <td>no</td>\n",
       "      <td>no</td>\n",
       "      <td>no</td>\n",
       "      <td>telephone</td>\n",
       "      <td>may</td>\n",
       "      <td>mon</td>\n",
       "      <td>...</td>\n",
       "      <td>1</td>\n",
       "      <td>999</td>\n",
       "      <td>0</td>\n",
       "      <td>nonexistent</td>\n",
       "      <td>1.1</td>\n",
       "      <td>93.994</td>\n",
       "      <td>-36.4</td>\n",
       "      <td>4.857</td>\n",
       "      <td>5191.0</td>\n",
       "      <td>no</td>\n",
       "    </tr>\n",
       "    <tr>\n",
       "      <th>1</th>\n",
       "      <td>57</td>\n",
       "      <td>services</td>\n",
       "      <td>married</td>\n",
       "      <td>high.school</td>\n",
       "      <td>unknown</td>\n",
       "      <td>no</td>\n",
       "      <td>no</td>\n",
       "      <td>telephone</td>\n",
       "      <td>may</td>\n",
       "      <td>mon</td>\n",
       "      <td>...</td>\n",
       "      <td>1</td>\n",
       "      <td>999</td>\n",
       "      <td>0</td>\n",
       "      <td>nonexistent</td>\n",
       "      <td>1.1</td>\n",
       "      <td>93.994</td>\n",
       "      <td>-36.4</td>\n",
       "      <td>4.857</td>\n",
       "      <td>5191.0</td>\n",
       "      <td>no</td>\n",
       "    </tr>\n",
       "    <tr>\n",
       "      <th>2</th>\n",
       "      <td>37</td>\n",
       "      <td>services</td>\n",
       "      <td>married</td>\n",
       "      <td>high.school</td>\n",
       "      <td>no</td>\n",
       "      <td>yes</td>\n",
       "      <td>no</td>\n",
       "      <td>telephone</td>\n",
       "      <td>may</td>\n",
       "      <td>mon</td>\n",
       "      <td>...</td>\n",
       "      <td>1</td>\n",
       "      <td>999</td>\n",
       "      <td>0</td>\n",
       "      <td>nonexistent</td>\n",
       "      <td>1.1</td>\n",
       "      <td>93.994</td>\n",
       "      <td>-36.4</td>\n",
       "      <td>4.857</td>\n",
       "      <td>5191.0</td>\n",
       "      <td>no</td>\n",
       "    </tr>\n",
       "    <tr>\n",
       "      <th>3</th>\n",
       "      <td>40</td>\n",
       "      <td>admin.</td>\n",
       "      <td>married</td>\n",
       "      <td>basic.6y</td>\n",
       "      <td>no</td>\n",
       "      <td>no</td>\n",
       "      <td>no</td>\n",
       "      <td>telephone</td>\n",
       "      <td>may</td>\n",
       "      <td>mon</td>\n",
       "      <td>...</td>\n",
       "      <td>1</td>\n",
       "      <td>999</td>\n",
       "      <td>0</td>\n",
       "      <td>nonexistent</td>\n",
       "      <td>1.1</td>\n",
       "      <td>93.994</td>\n",
       "      <td>-36.4</td>\n",
       "      <td>4.857</td>\n",
       "      <td>5191.0</td>\n",
       "      <td>no</td>\n",
       "    </tr>\n",
       "    <tr>\n",
       "      <th>4</th>\n",
       "      <td>56</td>\n",
       "      <td>services</td>\n",
       "      <td>married</td>\n",
       "      <td>high.school</td>\n",
       "      <td>no</td>\n",
       "      <td>no</td>\n",
       "      <td>yes</td>\n",
       "      <td>telephone</td>\n",
       "      <td>may</td>\n",
       "      <td>mon</td>\n",
       "      <td>...</td>\n",
       "      <td>1</td>\n",
       "      <td>999</td>\n",
       "      <td>0</td>\n",
       "      <td>nonexistent</td>\n",
       "      <td>1.1</td>\n",
       "      <td>93.994</td>\n",
       "      <td>-36.4</td>\n",
       "      <td>4.857</td>\n",
       "      <td>5191.0</td>\n",
       "      <td>no</td>\n",
       "    </tr>\n",
       "  </tbody>\n",
       "</table>\n",
       "<p>5 rows × 21 columns</p>\n",
       "</div>"
      ],
      "text/plain": [
       "   age        job  marital    education  default housing loan    contact  \\\n",
       "0   56  housemaid  married     basic.4y       no      no   no  telephone   \n",
       "1   57   services  married  high.school  unknown      no   no  telephone   \n",
       "2   37   services  married  high.school       no     yes   no  telephone   \n",
       "3   40     admin.  married     basic.6y       no      no   no  telephone   \n",
       "4   56   services  married  high.school       no      no  yes  telephone   \n",
       "\n",
       "  month day_of_week  ...  campaign  pdays  previous     poutcome emp.var.rate  \\\n",
       "0   may         mon  ...         1    999         0  nonexistent          1.1   \n",
       "1   may         mon  ...         1    999         0  nonexistent          1.1   \n",
       "2   may         mon  ...         1    999         0  nonexistent          1.1   \n",
       "3   may         mon  ...         1    999         0  nonexistent          1.1   \n",
       "4   may         mon  ...         1    999         0  nonexistent          1.1   \n",
       "\n",
       "   cons.price.idx  cons.conf.idx  euribor3m  nr.employed   y  \n",
       "0          93.994          -36.4      4.857       5191.0  no  \n",
       "1          93.994          -36.4      4.857       5191.0  no  \n",
       "2          93.994          -36.4      4.857       5191.0  no  \n",
       "3          93.994          -36.4      4.857       5191.0  no  \n",
       "4          93.994          -36.4      4.857       5191.0  no  \n",
       "\n",
       "[5 rows x 21 columns]"
      ]
     },
     "execution_count": 3,
     "metadata": {},
     "output_type": "execute_result"
    }
   ],
   "source": [
    "data.head()"
   ]
  },
  {
   "cell_type": "code",
   "execution_count": 4,
   "id": "f5dc2ba0",
   "metadata": {},
   "outputs": [
    {
     "data": {
      "text/plain": [
       "age                 int64\n",
       "job                object\n",
       "marital            object\n",
       "education          object\n",
       "default            object\n",
       "housing            object\n",
       "loan               object\n",
       "contact            object\n",
       "month              object\n",
       "day_of_week        object\n",
       "duration            int64\n",
       "campaign            int64\n",
       "pdays               int64\n",
       "previous            int64\n",
       "poutcome           object\n",
       "emp.var.rate      float64\n",
       "cons.price.idx    float64\n",
       "cons.conf.idx     float64\n",
       "euribor3m         float64\n",
       "nr.employed       float64\n",
       "y                  object\n",
       "dtype: object"
      ]
     },
     "execution_count": 4,
     "metadata": {},
     "output_type": "execute_result"
    }
   ],
   "source": [
    "data.dtypes"
   ]
  },
  {
   "cell_type": "code",
   "execution_count": 5,
   "id": "c4d4ac9f",
   "metadata": {},
   "outputs": [
    {
     "data": {
      "text/html": [
       "<div>\n",
       "<style scoped>\n",
       "    .dataframe tbody tr th:only-of-type {\n",
       "        vertical-align: middle;\n",
       "    }\n",
       "\n",
       "    .dataframe tbody tr th {\n",
       "        vertical-align: top;\n",
       "    }\n",
       "\n",
       "    .dataframe thead th {\n",
       "        text-align: right;\n",
       "    }\n",
       "</style>\n",
       "<table border=\"1\" class=\"dataframe\">\n",
       "  <thead>\n",
       "    <tr style=\"text-align: right;\">\n",
       "      <th></th>\n",
       "      <th>age</th>\n",
       "      <th>duration</th>\n",
       "      <th>campaign</th>\n",
       "      <th>pdays</th>\n",
       "      <th>previous</th>\n",
       "      <th>emp.var.rate</th>\n",
       "      <th>cons.price.idx</th>\n",
       "      <th>cons.conf.idx</th>\n",
       "      <th>euribor3m</th>\n",
       "      <th>nr.employed</th>\n",
       "    </tr>\n",
       "  </thead>\n",
       "  <tbody>\n",
       "    <tr>\n",
       "      <th>count</th>\n",
       "      <td>41188.00000</td>\n",
       "      <td>41188.000000</td>\n",
       "      <td>41188.000000</td>\n",
       "      <td>41188.000000</td>\n",
       "      <td>41188.000000</td>\n",
       "      <td>41188.000000</td>\n",
       "      <td>41188.000000</td>\n",
       "      <td>41188.000000</td>\n",
       "      <td>41188.000000</td>\n",
       "      <td>41188.000000</td>\n",
       "    </tr>\n",
       "    <tr>\n",
       "      <th>mean</th>\n",
       "      <td>40.02406</td>\n",
       "      <td>258.285010</td>\n",
       "      <td>2.567593</td>\n",
       "      <td>962.475454</td>\n",
       "      <td>0.172963</td>\n",
       "      <td>0.081886</td>\n",
       "      <td>93.575664</td>\n",
       "      <td>-40.502600</td>\n",
       "      <td>3.621291</td>\n",
       "      <td>5167.035911</td>\n",
       "    </tr>\n",
       "    <tr>\n",
       "      <th>std</th>\n",
       "      <td>10.42125</td>\n",
       "      <td>259.279249</td>\n",
       "      <td>2.770014</td>\n",
       "      <td>186.910907</td>\n",
       "      <td>0.494901</td>\n",
       "      <td>1.570960</td>\n",
       "      <td>0.578840</td>\n",
       "      <td>4.628198</td>\n",
       "      <td>1.734447</td>\n",
       "      <td>72.251528</td>\n",
       "    </tr>\n",
       "    <tr>\n",
       "      <th>min</th>\n",
       "      <td>17.00000</td>\n",
       "      <td>0.000000</td>\n",
       "      <td>1.000000</td>\n",
       "      <td>0.000000</td>\n",
       "      <td>0.000000</td>\n",
       "      <td>-3.400000</td>\n",
       "      <td>92.201000</td>\n",
       "      <td>-50.800000</td>\n",
       "      <td>0.634000</td>\n",
       "      <td>4963.600000</td>\n",
       "    </tr>\n",
       "    <tr>\n",
       "      <th>25%</th>\n",
       "      <td>32.00000</td>\n",
       "      <td>102.000000</td>\n",
       "      <td>1.000000</td>\n",
       "      <td>999.000000</td>\n",
       "      <td>0.000000</td>\n",
       "      <td>-1.800000</td>\n",
       "      <td>93.075000</td>\n",
       "      <td>-42.700000</td>\n",
       "      <td>1.344000</td>\n",
       "      <td>5099.100000</td>\n",
       "    </tr>\n",
       "    <tr>\n",
       "      <th>50%</th>\n",
       "      <td>38.00000</td>\n",
       "      <td>180.000000</td>\n",
       "      <td>2.000000</td>\n",
       "      <td>999.000000</td>\n",
       "      <td>0.000000</td>\n",
       "      <td>1.100000</td>\n",
       "      <td>93.749000</td>\n",
       "      <td>-41.800000</td>\n",
       "      <td>4.857000</td>\n",
       "      <td>5191.000000</td>\n",
       "    </tr>\n",
       "    <tr>\n",
       "      <th>75%</th>\n",
       "      <td>47.00000</td>\n",
       "      <td>319.000000</td>\n",
       "      <td>3.000000</td>\n",
       "      <td>999.000000</td>\n",
       "      <td>0.000000</td>\n",
       "      <td>1.400000</td>\n",
       "      <td>93.994000</td>\n",
       "      <td>-36.400000</td>\n",
       "      <td>4.961000</td>\n",
       "      <td>5228.100000</td>\n",
       "    </tr>\n",
       "    <tr>\n",
       "      <th>max</th>\n",
       "      <td>98.00000</td>\n",
       "      <td>4918.000000</td>\n",
       "      <td>56.000000</td>\n",
       "      <td>999.000000</td>\n",
       "      <td>7.000000</td>\n",
       "      <td>1.400000</td>\n",
       "      <td>94.767000</td>\n",
       "      <td>-26.900000</td>\n",
       "      <td>5.045000</td>\n",
       "      <td>5228.100000</td>\n",
       "    </tr>\n",
       "  </tbody>\n",
       "</table>\n",
       "</div>"
      ],
      "text/plain": [
       "               age      duration      campaign         pdays      previous  \\\n",
       "count  41188.00000  41188.000000  41188.000000  41188.000000  41188.000000   \n",
       "mean      40.02406    258.285010      2.567593    962.475454      0.172963   \n",
       "std       10.42125    259.279249      2.770014    186.910907      0.494901   \n",
       "min       17.00000      0.000000      1.000000      0.000000      0.000000   \n",
       "25%       32.00000    102.000000      1.000000    999.000000      0.000000   \n",
       "50%       38.00000    180.000000      2.000000    999.000000      0.000000   \n",
       "75%       47.00000    319.000000      3.000000    999.000000      0.000000   \n",
       "max       98.00000   4918.000000     56.000000    999.000000      7.000000   \n",
       "\n",
       "       emp.var.rate  cons.price.idx  cons.conf.idx     euribor3m   nr.employed  \n",
       "count  41188.000000    41188.000000   41188.000000  41188.000000  41188.000000  \n",
       "mean       0.081886       93.575664     -40.502600      3.621291   5167.035911  \n",
       "std        1.570960        0.578840       4.628198      1.734447     72.251528  \n",
       "min       -3.400000       92.201000     -50.800000      0.634000   4963.600000  \n",
       "25%       -1.800000       93.075000     -42.700000      1.344000   5099.100000  \n",
       "50%        1.100000       93.749000     -41.800000      4.857000   5191.000000  \n",
       "75%        1.400000       93.994000     -36.400000      4.961000   5228.100000  \n",
       "max        1.400000       94.767000     -26.900000      5.045000   5228.100000  "
      ]
     },
     "execution_count": 5,
     "metadata": {},
     "output_type": "execute_result"
    }
   ],
   "source": [
    "BankData=data\n",
    "BankData.describe()"
   ]
  },
  {
   "cell_type": "markdown",
   "id": "39a4570d",
   "metadata": {},
   "source": [
    "#### It is mentioned in the description that if pdays means 999 than it means the customer was not contacted before"
   ]
  },
  {
   "cell_type": "code",
   "execution_count": 6,
   "id": "cc83eaca",
   "metadata": {},
   "outputs": [],
   "source": [
    "#sns.histplot(BankData[\"pdays\"])"
   ]
  },
  {
   "cell_type": "markdown",
   "id": "65df3818",
   "metadata": {},
   "source": [
    "#### It seems that most of the customers are there who have not been contacted earlier and very few which are contacted earlier ,So this numeric variable can be changed in previously contacted yes and no options"
   ]
  },
  {
   "cell_type": "code",
   "execution_count": 7,
   "id": "4628e564",
   "metadata": {},
   "outputs": [],
   "source": [
    "#previous column is confusing it means no of times a customer is contacted before the campaign so let's rename it\n",
    "#campaign column tells no of times a customer contacted during the campaign so let's rename it\n",
    "BankData.rename(columns={\"campaign\":\"Previous_Contacts\"},inplace=True)"
   ]
  },
  {
   "cell_type": "code",
   "execution_count": 8,
   "id": "f26c1a02",
   "metadata": {},
   "outputs": [],
   "source": [
    "df = BankData"
   ]
  },
  {
   "cell_type": "code",
   "execution_count": 9,
   "id": "3eaecfb3",
   "metadata": {},
   "outputs": [
    {
     "data": {
      "text/plain": [
       "Index(['age', 'job', 'marital', 'education', 'default', 'housing', 'loan',\n",
       "       'contact', 'month', 'day_of_week', 'duration', 'Previous_Contacts',\n",
       "       'pdays', 'previous', 'poutcome', 'emp.var.rate', 'cons.price.idx',\n",
       "       'cons.conf.idx', 'euribor3m', 'nr.employed', 'y'],\n",
       "      dtype='object')"
      ]
     },
     "execution_count": 9,
     "metadata": {},
     "output_type": "execute_result"
    }
   ],
   "source": [
    "df.columns"
   ]
  },
  {
   "cell_type": "code",
   "execution_count": 10,
   "id": "d3869541",
   "metadata": {},
   "outputs": [
    {
     "data": {
      "text/html": [
       "<div>\n",
       "<style scoped>\n",
       "    .dataframe tbody tr th:only-of-type {\n",
       "        vertical-align: middle;\n",
       "    }\n",
       "\n",
       "    .dataframe tbody tr th {\n",
       "        vertical-align: top;\n",
       "    }\n",
       "\n",
       "    .dataframe thead th {\n",
       "        text-align: right;\n",
       "    }\n",
       "</style>\n",
       "<table border=\"1\" class=\"dataframe\">\n",
       "  <thead>\n",
       "    <tr style=\"text-align: right;\">\n",
       "      <th></th>\n",
       "      <th>age</th>\n",
       "      <th>job</th>\n",
       "      <th>marital</th>\n",
       "      <th>education</th>\n",
       "      <th>default</th>\n",
       "      <th>housing</th>\n",
       "      <th>loan</th>\n",
       "      <th>contact</th>\n",
       "      <th>month</th>\n",
       "      <th>day_of_week</th>\n",
       "      <th>...</th>\n",
       "      <th>Previous_Contacts</th>\n",
       "      <th>pdays</th>\n",
       "      <th>previous</th>\n",
       "      <th>poutcome</th>\n",
       "      <th>emp.var.rate</th>\n",
       "      <th>cons.price.idx</th>\n",
       "      <th>cons.conf.idx</th>\n",
       "      <th>euribor3m</th>\n",
       "      <th>nr.employed</th>\n",
       "      <th>y</th>\n",
       "    </tr>\n",
       "  </thead>\n",
       "  <tbody>\n",
       "    <tr>\n",
       "      <th>0</th>\n",
       "      <td>56</td>\n",
       "      <td>housemaid</td>\n",
       "      <td>married</td>\n",
       "      <td>basic.4y</td>\n",
       "      <td>no</td>\n",
       "      <td>no</td>\n",
       "      <td>no</td>\n",
       "      <td>telephone</td>\n",
       "      <td>may</td>\n",
       "      <td>mon</td>\n",
       "      <td>...</td>\n",
       "      <td>1</td>\n",
       "      <td>999</td>\n",
       "      <td>0</td>\n",
       "      <td>nonexistent</td>\n",
       "      <td>1.1</td>\n",
       "      <td>93.994</td>\n",
       "      <td>-36.4</td>\n",
       "      <td>4.857</td>\n",
       "      <td>5191.0</td>\n",
       "      <td>no</td>\n",
       "    </tr>\n",
       "    <tr>\n",
       "      <th>1</th>\n",
       "      <td>57</td>\n",
       "      <td>services</td>\n",
       "      <td>married</td>\n",
       "      <td>high.school</td>\n",
       "      <td>unknown</td>\n",
       "      <td>no</td>\n",
       "      <td>no</td>\n",
       "      <td>telephone</td>\n",
       "      <td>may</td>\n",
       "      <td>mon</td>\n",
       "      <td>...</td>\n",
       "      <td>1</td>\n",
       "      <td>999</td>\n",
       "      <td>0</td>\n",
       "      <td>nonexistent</td>\n",
       "      <td>1.1</td>\n",
       "      <td>93.994</td>\n",
       "      <td>-36.4</td>\n",
       "      <td>4.857</td>\n",
       "      <td>5191.0</td>\n",
       "      <td>no</td>\n",
       "    </tr>\n",
       "    <tr>\n",
       "      <th>2</th>\n",
       "      <td>37</td>\n",
       "      <td>services</td>\n",
       "      <td>married</td>\n",
       "      <td>high.school</td>\n",
       "      <td>no</td>\n",
       "      <td>yes</td>\n",
       "      <td>no</td>\n",
       "      <td>telephone</td>\n",
       "      <td>may</td>\n",
       "      <td>mon</td>\n",
       "      <td>...</td>\n",
       "      <td>1</td>\n",
       "      <td>999</td>\n",
       "      <td>0</td>\n",
       "      <td>nonexistent</td>\n",
       "      <td>1.1</td>\n",
       "      <td>93.994</td>\n",
       "      <td>-36.4</td>\n",
       "      <td>4.857</td>\n",
       "      <td>5191.0</td>\n",
       "      <td>no</td>\n",
       "    </tr>\n",
       "    <tr>\n",
       "      <th>3</th>\n",
       "      <td>40</td>\n",
       "      <td>admin.</td>\n",
       "      <td>married</td>\n",
       "      <td>basic.6y</td>\n",
       "      <td>no</td>\n",
       "      <td>no</td>\n",
       "      <td>no</td>\n",
       "      <td>telephone</td>\n",
       "      <td>may</td>\n",
       "      <td>mon</td>\n",
       "      <td>...</td>\n",
       "      <td>1</td>\n",
       "      <td>999</td>\n",
       "      <td>0</td>\n",
       "      <td>nonexistent</td>\n",
       "      <td>1.1</td>\n",
       "      <td>93.994</td>\n",
       "      <td>-36.4</td>\n",
       "      <td>4.857</td>\n",
       "      <td>5191.0</td>\n",
       "      <td>no</td>\n",
       "    </tr>\n",
       "    <tr>\n",
       "      <th>4</th>\n",
       "      <td>56</td>\n",
       "      <td>services</td>\n",
       "      <td>married</td>\n",
       "      <td>high.school</td>\n",
       "      <td>no</td>\n",
       "      <td>no</td>\n",
       "      <td>yes</td>\n",
       "      <td>telephone</td>\n",
       "      <td>may</td>\n",
       "      <td>mon</td>\n",
       "      <td>...</td>\n",
       "      <td>1</td>\n",
       "      <td>999</td>\n",
       "      <td>0</td>\n",
       "      <td>nonexistent</td>\n",
       "      <td>1.1</td>\n",
       "      <td>93.994</td>\n",
       "      <td>-36.4</td>\n",
       "      <td>4.857</td>\n",
       "      <td>5191.0</td>\n",
       "      <td>no</td>\n",
       "    </tr>\n",
       "  </tbody>\n",
       "</table>\n",
       "<p>5 rows × 21 columns</p>\n",
       "</div>"
      ],
      "text/plain": [
       "   age        job  marital    education  default housing loan    contact  \\\n",
       "0   56  housemaid  married     basic.4y       no      no   no  telephone   \n",
       "1   57   services  married  high.school  unknown      no   no  telephone   \n",
       "2   37   services  married  high.school       no     yes   no  telephone   \n",
       "3   40     admin.  married     basic.6y       no      no   no  telephone   \n",
       "4   56   services  married  high.school       no      no  yes  telephone   \n",
       "\n",
       "  month day_of_week  ...  Previous_Contacts  pdays  previous     poutcome  \\\n",
       "0   may         mon  ...                  1    999         0  nonexistent   \n",
       "1   may         mon  ...                  1    999         0  nonexistent   \n",
       "2   may         mon  ...                  1    999         0  nonexistent   \n",
       "3   may         mon  ...                  1    999         0  nonexistent   \n",
       "4   may         mon  ...                  1    999         0  nonexistent   \n",
       "\n",
       "  emp.var.rate  cons.price.idx  cons.conf.idx  euribor3m  nr.employed   y  \n",
       "0          1.1          93.994          -36.4      4.857       5191.0  no  \n",
       "1          1.1          93.994          -36.4      4.857       5191.0  no  \n",
       "2          1.1          93.994          -36.4      4.857       5191.0  no  \n",
       "3          1.1          93.994          -36.4      4.857       5191.0  no  \n",
       "4          1.1          93.994          -36.4      4.857       5191.0  no  \n",
       "\n",
       "[5 rows x 21 columns]"
      ]
     },
     "execution_count": 10,
     "metadata": {},
     "output_type": "execute_result"
    }
   ],
   "source": [
    "df.head()"
   ]
  },
  {
   "cell_type": "markdown",
   "id": "f9799b4c",
   "metadata": {},
   "source": [
    "### It looks fine till now. Let's go for Univariate Analysis"
   ]
  },
  {
   "cell_type": "code",
   "execution_count": 11,
   "id": "6e2ff23d",
   "metadata": {},
   "outputs": [],
   "source": [
    "#sns.boxplot(BankData[\"age\"])"
   ]
  },
  {
   "cell_type": "code",
   "execution_count": 12,
   "id": "bd56f04f",
   "metadata": {},
   "outputs": [],
   "source": [
    "#sns.histplot(BankData[\"age\"])"
   ]
  },
  {
   "cell_type": "code",
   "execution_count": 13,
   "id": "8ba22671",
   "metadata": {},
   "outputs": [],
   "source": [
    "#df[\"age\"].describe()"
   ]
  },
  {
   "cell_type": "markdown",
   "id": "6d07564f",
   "metadata": {},
   "source": [
    "### Observations - Age:\n",
    "1. It doesn't look like normal distribution and having some outliers also\n",
    "2. Some transformation can be applied which we will try later on\n",
    "3. Average age of the participants in this campaign is around 40 and there are more people in the age range of 30-40\n",
    "4. Although outliers are present there like age more than 70 but if we think than we can not simply ignore these because many senior citizens might take the plans by considering future of their kids or grandchildren . So simply dropping it would not be a great idea as of now. Let's see what we do later"
   ]
  },
  {
   "cell_type": "code",
   "execution_count": 14,
   "id": "98271295",
   "metadata": {},
   "outputs": [],
   "source": [
    "#BankData[\"job\"].value_counts()"
   ]
  },
  {
   "cell_type": "code",
   "execution_count": 15,
   "id": "06f32c57",
   "metadata": {},
   "outputs": [],
   "source": [
    "#BankData[\"job\"].value_counts().plot.bar()"
   ]
  },
  {
   "cell_type": "markdown",
   "id": "9ec1c013",
   "metadata": {},
   "source": [
    "### Observation - Job:\n",
    "1. more than 25% people belongs to administration\n",
    "2. Most people contacted in this campaign belong to administratiion, technician or blue collar job (~63%)\n",
    "3. Entrepreneur,housemaid,unemployed,student and unknown are less in numbers so we can create a simple other combined class while model building to avoid so many variables but that will be done later on"
   ]
  },
  {
   "cell_type": "code",
   "execution_count": 16,
   "id": "0cee8c48",
   "metadata": {},
   "outputs": [],
   "source": [
    "#BankData[\"marital\"].value_counts()"
   ]
  },
  {
   "cell_type": "code",
   "execution_count": 17,
   "id": "358b00a7",
   "metadata": {},
   "outputs": [],
   "source": [
    "#BankData[\"marital\"].value_counts().plot.bar()"
   ]
  },
  {
   "cell_type": "markdown",
   "id": "ed8f2343",
   "metadata": {},
   "source": [
    "### Observation Marital Status:\n",
    "1. Most people contacted in this campaign are married people\n",
    "2. There are few cases of unknown which either can be droopped or can be merged with divorced and we can create complicated column. "
   ]
  },
  {
   "cell_type": "code",
   "execution_count": 18,
   "id": "e76b7acf",
   "metadata": {},
   "outputs": [],
   "source": [
    "#BankData[\"education\"].value_counts()"
   ]
  },
  {
   "cell_type": "code",
   "execution_count": 19,
   "id": "b9fc02c1",
   "metadata": {},
   "outputs": [],
   "source": [
    "#BankData[\"education\"].value_counts().plot.bar()"
   ]
  },
  {
   "cell_type": "markdown",
   "id": "741bdba1",
   "metadata": {},
   "source": [
    "### Observation - Education:\n",
    "1. Around 30% people have university degree and around 18 % are very less educated or uneducated\n",
    "2. More than 50% people have education greater than or equals higher school\n",
    "3. Here also the 18 % can be merged as a single class to avoid too many variables"
   ]
  },
  {
   "cell_type": "code",
   "execution_count": 20,
   "id": "fdbd62f2",
   "metadata": {},
   "outputs": [],
   "source": [
    "#BankData[\"default\"].value_counts()"
   ]
  },
  {
   "cell_type": "code",
   "execution_count": 21,
   "id": "04078d2f",
   "metadata": {},
   "outputs": [],
   "source": [
    "#BankData[\"housing\"].value_counts()"
   ]
  },
  {
   "cell_type": "code",
   "execution_count": 22,
   "id": "138763d7",
   "metadata": {},
   "outputs": [],
   "source": [
    "#BankData[\"housing\"].value_counts().plot.bar()"
   ]
  },
  {
   "cell_type": "code",
   "execution_count": 23,
   "id": "fd055510",
   "metadata": {},
   "outputs": [],
   "source": [
    "#BankData[\"loan\"].value_counts()"
   ]
  },
  {
   "cell_type": "code",
   "execution_count": 24,
   "id": "dd0ac8d9",
   "metadata": {},
   "outputs": [],
   "source": [
    "#BankData[\"loan\"].value_counts().plot.bar()"
   ]
  },
  {
   "cell_type": "markdown",
   "id": "3447bd33",
   "metadata": {},
   "source": [
    "### Observation - Defaulter, Housing & Personal Loans\n",
    "1. Almost 80% people don't have personal loan\n",
    "2. we will later on also check how many people have personal and housing loan both together\n",
    "3. Good mixture of people who have housing loan and it might be an important feature while deciding to subscribe for policy\n",
    "4. Almost no one is defaulter, and it makes sense\n",
    "5. The unknown also have a significant number for defaulter and it should be investigated."
   ]
  },
  {
   "cell_type": "code",
   "execution_count": 25,
   "id": "e61aa216",
   "metadata": {},
   "outputs": [],
   "source": [
    "#BankData[\"contact\"].value_counts().plot.bar()"
   ]
  },
  {
   "cell_type": "code",
   "execution_count": 26,
   "id": "f784c3eb",
   "metadata": {},
   "outputs": [],
   "source": [
    "#BankData[\"month\"].value_counts().plot.bar()"
   ]
  },
  {
   "cell_type": "code",
   "execution_count": 27,
   "id": "ae76ad47",
   "metadata": {},
   "outputs": [],
   "source": [
    "#BankData[\"day_of_week\"].value_counts().plot.bar()"
   ]
  },
  {
   "cell_type": "markdown",
   "id": "86717b49",
   "metadata": {},
   "source": [
    "### Observations - Contacts:\n",
    "1. Most people contacted in May month followed by July, August and June.\n",
    "2. More than 60% people contacted via cellular phone call.\n",
    "3. Contacts done are usually done on all weekdays in similar frequency"
   ]
  },
  {
   "cell_type": "code",
   "execution_count": 28,
   "id": "2110e9a6",
   "metadata": {},
   "outputs": [
    {
     "data": {
      "text/plain": [
       "<Axes: ylabel='Frequency'>"
      ]
     },
     "execution_count": 28,
     "metadata": {},
     "output_type": "execute_result"
    },
    {
     "data": {
      "image/png": "[encoded data removed]",
      "text/plain": [
       "<Figure size 640x480 with 1 Axes>"
      ]
     },
     "metadata": {},
     "output_type": "display_data"
    }
   ],
   "source": [
    "BankData[\"Previous_Contacts\"].plot.hist()"
   ]
  },
  {
   "cell_type": "markdown",
   "id": "c2c2726a",
   "metadata": {},
   "source": [
    "### there is a clear uncertainty for number of calls done in the campaign"
   ]
  },
  {
   "cell_type": "code",
   "execution_count": 29,
   "id": "0a8ad0ab",
   "metadata": {},
   "outputs": [],
   "source": [
    "#BankData[\"poutcome\"].value_counts().plot.bar()"
   ]
  },
  {
   "cell_type": "code",
   "execution_count": 30,
   "id": "16c25968",
   "metadata": {},
   "outputs": [],
   "source": [
    "# Because most things are non-existant so I am dropping it\n",
    "#BankData.drop([\"poutcome\"],axis=1,inplace=True)"
   ]
  },
  {
   "cell_type": "code",
   "execution_count": 31,
   "id": "0cd310b0",
   "metadata": {},
   "outputs": [],
   "source": [
    "#BankData[\"PreviouslyContact\"].value_counts().plot.bar()"
   ]
  },
  {
   "cell_type": "code",
   "execution_count": 32,
   "id": "69d9df21",
   "metadata": {},
   "outputs": [],
   "source": [
    "#BankData[\"PreviouslyContact\"].value_counts()"
   ]
  },
  {
   "cell_type": "code",
   "execution_count": null,
   "id": "2633d9be",
   "metadata": {},
   "outputs": [],
   "source": []
  },
  {
   "cell_type": "code",
   "execution_count": 33,
   "id": "719bae8e",
   "metadata": {},
   "outputs": [],
   "source": [
    "df = BankData"
   ]
  },
  {
   "cell_type": "markdown",
   "id": "078c6850",
   "metadata": {},
   "source": [
    "### Time for Bi and Multivariate Analysis"
   ]
  },
  {
   "cell_type": "markdown",
   "id": "89941994",
   "metadata": {},
   "source": [
    "#### I will do it based on the questions one can get while thinking about the dataset and problem statement"
   ]
  },
  {
   "cell_type": "markdown",
   "id": "b0cb3882",
   "metadata": {},
   "source": [
    "#### Q1 . Does age affecting the subscription chances of customers ?"
   ]
  },
  {
   "cell_type": "code",
   "execution_count": 34,
   "id": "f6122ac1",
   "metadata": {},
   "outputs": [
    {
     "data": {
      "text/plain": [
       "<Axes: xlabel='age', ylabel='Count'>"
      ]
     },
     "execution_count": 34,
     "metadata": {},
     "output_type": "execute_result"
    },
    {
     "data": {
      "image/png": "[encoded data removed]",
      "text/plain": [
       "<Figure size 640x480 with 1 Axes>"
      ]
     },
     "metadata": {},
     "output_type": "display_data"
    }
   ],
   "source": [
    "sns.histplot(df,x='age')"
   ]
  },
  {
   "cell_type": "markdown",
   "id": "9a351bb2",
   "metadata": {},
   "source": [
    "#### Observation : People taking subscription are mostly from age range 25 to 40 but the conversion but as everyone is contacted atleast once during this campaign the conversion is also low in the same age group. While the conversion of call to successful subscription looks descent in senior citizens group ie >60 age."
   ]
  },
  {
   "cell_type": "code",
   "execution_count": 39,
   "id": "56c3fbfb",
   "metadata": {},
   "outputs": [],
   "source": [
    "df['log_age'] = np.log(df['age'])"
   ]
  },
  {
   "cell_type": "code",
   "execution_count": 41,
   "id": "d78f4a62",
   "metadata": {},
   "outputs": [],
   "source": [
    "df[\"Any_Loans\"] = df[\"housing\"]+df[\"loan\"]"
   ]
  },
  {
   "cell_type": "code",
   "execution_count": 42,
   "id": "fd727b82",
   "metadata": {},
   "outputs": [],
   "source": [
    "df[\"Any_Loans\"].replace([\"yesno\",\"noyes\",\"yesyyes\"],\"yes\",inplace=True)\n",
    "df[\"Any_Loans\"].replace([\"nono\",],\"no\",inplace=True)"
   ]
  },
  {
   "cell_type": "code",
   "execution_count": 38,
   "id": "53aae1a9",
   "metadata": {},
   "outputs": [
    {
     "ename": "NameError",
     "evalue": "name 'maheshanjali' is not defined",
     "output_type": "error",
     "traceback": [
      "\u001b[1;31m---------------------------------------------------------------------------\u001b[0m",
      "\u001b[1;31mNameError\u001b[0m                                 Traceback (most recent call last)",
      "Cell \u001b[1;32mIn[38], line 1\u001b[0m\n\u001b[1;32m----> 1\u001b[0m \u001b[38;5;28mprint\u001b[39m(\u001b[43mmaheshanjali\u001b[49m)\n",
      "\u001b[1;31mNameError\u001b[0m: name 'maheshanjali' is not defined"
     ]
    }
   ],
   "source": [
    "print(maheshanjali)"
   ]
  },
  {
   "cell_type": "markdown",
   "id": "892a55b8",
   "metadata": {},
   "source": [
    "#### Q2. What if we combine age,job and education and compare it with decision of taking subscription."
   ]
  },
  {
   "cell_type": "code",
   "execution_count": null,
   "id": "38d34713",
   "metadata": {},
   "outputs": [],
   "source": [
    "job_group = df.groupby('job')"
   ]
  },
  {
   "cell_type": "code",
   "execution_count": null,
   "id": "07248336",
   "metadata": {},
   "outputs": [],
   "source": [
    "education_group = df.groupby('education')"
   ]
  },
  {
   "cell_type": "code",
   "execution_count": null,
   "id": "b15b32a5",
   "metadata": {},
   "outputs": [],
   "source": [
    "len(job_group),len(education_group)"
   ]
  },
  {
   "cell_type": "code",
   "execution_count": null,
   "id": "625d125b",
   "metadata": {},
   "outputs": [],
   "source": [
    "#job_group.size(),education_group.size()"
   ]
  },
  {
   "cell_type": "code",
   "execution_count": null,
   "id": "9550923d",
   "metadata": {},
   "outputs": [],
   "source": [
    "job_group['y'].value_counts().plot.bar()"
   ]
  },
  {
   "cell_type": "code",
   "execution_count": null,
   "id": "60c78428",
   "metadata": {},
   "outputs": [],
   "source": [
    "education_group['y'].value_counts().plot.bar()"
   ]
  },
  {
   "cell_type": "code",
   "execution_count": null,
   "id": "c580422a",
   "metadata": {},
   "outputs": [],
   "source": [
    "marital_group = df.groupby('marital')\n",
    "contact_group = df.groupby('contact')"
   ]
  },
  {
   "cell_type": "code",
   "execution_count": null,
   "id": "f4745ac1",
   "metadata": {},
   "outputs": [],
   "source": [
    "marital_group['y'].value_counts().plot.bar()"
   ]
  },
  {
   "cell_type": "code",
   "execution_count": null,
   "id": "5296a42f",
   "metadata": {},
   "outputs": [],
   "source": [
    "contact_group['y'].value_counts().plot.bar()"
   ]
  },
  {
   "cell_type": "code",
   "execution_count": null,
   "id": "c281d562",
   "metadata": {},
   "outputs": [],
   "source": [
    "month_group = df.groupby('month')\n",
    "month_group['y'].value_counts().plot.bar()"
   ]
  },
  {
   "cell_type": "code",
   "execution_count": null,
   "id": "c57ba247",
   "metadata": {},
   "outputs": [],
   "source": [
    "day_group = df.groupby('day_of_week')\n",
    "day_group['y'].value_counts().plot.bar()"
   ]
  },
  {
   "cell_type": "code",
   "execution_count": null,
   "id": "2cccd7c6",
   "metadata": {},
   "outputs": [],
   "source": [
    "df.head()"
   ]
  },
  {
   "cell_type": "code",
   "execution_count": null,
   "id": "8fa05d3d",
   "metadata": {},
   "outputs": [],
   "source": [
    "personalloan_group = df.groupby('loan')\n",
    "housingloan_group = df.groupby('housing')"
   ]
  },
  {
   "cell_type": "code",
   "execution_count": null,
   "id": "d84e07e5",
   "metadata": {},
   "outputs": [],
   "source": [
    "personalloan_group['y'].value_counts().plot.bar()"
   ]
  },
  {
   "cell_type": "code",
   "execution_count": null,
   "id": "8f2d8d4c",
   "metadata": {},
   "outputs": [],
   "source": [
    "housingloan_group['y'].value_counts().plot.bar()"
   ]
  },
  {
   "cell_type": "code",
   "execution_count": null,
   "id": "df1c83ad",
   "metadata": {},
   "outputs": [],
   "source": [
    "prv_contacted_group = df.groupby('PreviouslyContact')\n",
    "prv_contacted_group['y'].value_counts().plot.bar()"
   ]
  },
  {
   "cell_type": "code",
   "execution_count": null,
   "id": "659f2e5c",
   "metadata": {},
   "outputs": [],
   "source": []
  },
  {
   "cell_type": "code",
   "execution_count": null,
   "id": "d4b93e43",
   "metadata": {},
   "outputs": [],
   "source": [
    "df['duration'] = df['duration']/60"
   ]
  },
  {
   "cell_type": "code",
   "execution_count": null,
   "id": "5adaf915",
   "metadata": {},
   "outputs": [],
   "source": [
    "c1 = df[['housing','loan']]"
   ]
  },
  {
   "cell_type": "code",
   "execution_count": null,
   "id": "e76e5055",
   "metadata": {},
   "outputs": [],
   "source": [
    "from sklearn.tree import DecisionTreeClassifier\n",
    "from sklearn import tree"
   ]
  },
  {
   "cell_type": "code",
   "execution_count": null,
   "id": "e1773f89",
   "metadata": {},
   "outputs": [],
   "source": [
    "clf = DecisionTreeClassifier(random_state=0)"
   ]
  },
  {
   "cell_type": "code",
   "execution_count": null,
   "id": "a4383489",
   "metadata": {},
   "outputs": [],
   "source": [
    "one_hot_data = pd.get_dummies(c1[['housing','loan']],drop_first=True)\n",
    "clf=clf.fit(one_hot_data, df['y'])"
   ]
  },
  {
   "cell_type": "code",
   "execution_count": null,
   "id": "b4ee5a1d",
   "metadata": {},
   "outputs": [],
   "source": [
    "tree.plot_tree(clf)"
   ]
  },
  {
   "cell_type": "code",
   "execution_count": null,
   "id": "96b2e9e7",
   "metadata": {},
   "outputs": [],
   "source": []
  },
  {
   "cell_type": "code",
   "execution_count": 43,
   "id": "1d2a8ea4",
   "metadata": {},
   "outputs": [
    {
     "data": {
      "text/html": [
       "<div>\n",
       "<style scoped>\n",
       "    .dataframe tbody tr th:only-of-type {\n",
       "        vertical-align: middle;\n",
       "    }\n",
       "\n",
       "    .dataframe tbody tr th {\n",
       "        vertical-align: top;\n",
       "    }\n",
       "\n",
       "    .dataframe thead th {\n",
       "        text-align: right;\n",
       "    }\n",
       "</style>\n",
       "<table border=\"1\" class=\"dataframe\">\n",
       "  <thead>\n",
       "    <tr style=\"text-align: right;\">\n",
       "      <th></th>\n",
       "      <th>age</th>\n",
       "      <th>job</th>\n",
       "      <th>marital</th>\n",
       "      <th>education</th>\n",
       "      <th>default</th>\n",
       "      <th>housing</th>\n",
       "      <th>loan</th>\n",
       "      <th>contact</th>\n",
       "      <th>month</th>\n",
       "      <th>day_of_week</th>\n",
       "      <th>...</th>\n",
       "      <th>previous</th>\n",
       "      <th>poutcome</th>\n",
       "      <th>emp.var.rate</th>\n",
       "      <th>cons.price.idx</th>\n",
       "      <th>cons.conf.idx</th>\n",
       "      <th>euribor3m</th>\n",
       "      <th>nr.employed</th>\n",
       "      <th>y</th>\n",
       "      <th>log_age</th>\n",
       "      <th>Any_Loans</th>\n",
       "    </tr>\n",
       "  </thead>\n",
       "  <tbody>\n",
       "    <tr>\n",
       "      <th>0</th>\n",
       "      <td>56</td>\n",
       "      <td>housemaid</td>\n",
       "      <td>married</td>\n",
       "      <td>basic.4y</td>\n",
       "      <td>no</td>\n",
       "      <td>no</td>\n",
       "      <td>no</td>\n",
       "      <td>telephone</td>\n",
       "      <td>may</td>\n",
       "      <td>mon</td>\n",
       "      <td>...</td>\n",
       "      <td>0</td>\n",
       "      <td>nonexistent</td>\n",
       "      <td>1.1</td>\n",
       "      <td>93.994</td>\n",
       "      <td>-36.4</td>\n",
       "      <td>4.857</td>\n",
       "      <td>5191.0</td>\n",
       "      <td>no</td>\n",
       "      <td>4.025352</td>\n",
       "      <td>no</td>\n",
       "    </tr>\n",
       "  </tbody>\n",
       "</table>\n",
       "<p>1 rows × 23 columns</p>\n",
       "</div>"
      ],
      "text/plain": [
       "   age        job  marital education default housing loan    contact month  \\\n",
       "0   56  housemaid  married  basic.4y      no      no   no  telephone   may   \n",
       "\n",
       "  day_of_week  ...  previous     poutcome  emp.var.rate  cons.price.idx  \\\n",
       "0         mon  ...         0  nonexistent           1.1          93.994   \n",
       "\n",
       "  cons.conf.idx  euribor3m  nr.employed   y   log_age  Any_Loans  \n",
       "0         -36.4      4.857       5191.0  no  4.025352         no  \n",
       "\n",
       "[1 rows x 23 columns]"
      ]
     },
     "execution_count": 43,
     "metadata": {},
     "output_type": "execute_result"
    }
   ],
   "source": [
    "df.head(1)"
   ]
  },
  {
   "cell_type": "code",
   "execution_count": 44,
   "id": "df6b6528",
   "metadata": {},
   "outputs": [],
   "source": [
    "#i am dropping multiple columns\n",
    "\n",
    "dropped_labels = ['age','contact','pdays','default','housing','loan','poutcome','previous','cons.price.idx','duration','cons.conf.idx','euribor3m','nr.employed']\n",
    "df.drop(dropped_labels,axis=1,inplace=True)"
   ]
  },
  {
   "cell_type": "code",
   "execution_count": 45,
   "id": "d8d2af51",
   "metadata": {},
   "outputs": [
    {
     "data": {
      "text/html": [
       "<div>\n",
       "<style scoped>\n",
       "    .dataframe tbody tr th:only-of-type {\n",
       "        vertical-align: middle;\n",
       "    }\n",
       "\n",
       "    .dataframe tbody tr th {\n",
       "        vertical-align: top;\n",
       "    }\n",
       "\n",
       "    .dataframe thead th {\n",
       "        text-align: right;\n",
       "    }\n",
       "</style>\n",
       "<table border=\"1\" class=\"dataframe\">\n",
       "  <thead>\n",
       "    <tr style=\"text-align: right;\">\n",
       "      <th></th>\n",
       "      <th>job</th>\n",
       "      <th>marital</th>\n",
       "      <th>education</th>\n",
       "      <th>month</th>\n",
       "      <th>day_of_week</th>\n",
       "      <th>Previous_Contacts</th>\n",
       "      <th>emp.var.rate</th>\n",
       "      <th>y</th>\n",
       "      <th>log_age</th>\n",
       "      <th>Any_Loans</th>\n",
       "    </tr>\n",
       "  </thead>\n",
       "  <tbody>\n",
       "    <tr>\n",
       "      <th>0</th>\n",
       "      <td>housemaid</td>\n",
       "      <td>married</td>\n",
       "      <td>basic.4y</td>\n",
       "      <td>may</td>\n",
       "      <td>mon</td>\n",
       "      <td>1</td>\n",
       "      <td>1.1</td>\n",
       "      <td>no</td>\n",
       "      <td>4.025352</td>\n",
       "      <td>no</td>\n",
       "    </tr>\n",
       "  </tbody>\n",
       "</table>\n",
       "</div>"
      ],
      "text/plain": [
       "         job  marital education month day_of_week  Previous_Contacts  \\\n",
       "0  housemaid  married  basic.4y   may         mon                  1   \n",
       "\n",
       "   emp.var.rate   y   log_age Any_Loans  \n",
       "0           1.1  no  4.025352        no  "
      ]
     },
     "execution_count": 45,
     "metadata": {},
     "output_type": "execute_result"
    }
   ],
   "source": [
    "df.head(1)"
   ]
  },
  {
   "cell_type": "code",
   "execution_count": 51,
   "id": "bea28d44",
   "metadata": {},
   "outputs": [],
   "source": [
    "df.drop('emp.var.rate',axis=1,inplace=True)"
   ]
  },
  {
   "cell_type": "code",
   "execution_count": 52,
   "id": "0263e191",
   "metadata": {},
   "outputs": [
    {
     "data": {
      "text/html": [
       "<div>\n",
       "<style scoped>\n",
       "    .dataframe tbody tr th:only-of-type {\n",
       "        vertical-align: middle;\n",
       "    }\n",
       "\n",
       "    .dataframe tbody tr th {\n",
       "        vertical-align: top;\n",
       "    }\n",
       "\n",
       "    .dataframe thead th {\n",
       "        text-align: right;\n",
       "    }\n",
       "</style>\n",
       "<table border=\"1\" class=\"dataframe\">\n",
       "  <thead>\n",
       "    <tr style=\"text-align: right;\">\n",
       "      <th></th>\n",
       "      <th>job</th>\n",
       "      <th>marital</th>\n",
       "      <th>education</th>\n",
       "      <th>month</th>\n",
       "      <th>day_of_week</th>\n",
       "      <th>Previous_Contacts</th>\n",
       "      <th>y</th>\n",
       "      <th>log_age</th>\n",
       "      <th>Any_Loans</th>\n",
       "    </tr>\n",
       "  </thead>\n",
       "  <tbody>\n",
       "    <tr>\n",
       "      <th>0</th>\n",
       "      <td>housemaid</td>\n",
       "      <td>married</td>\n",
       "      <td>basic.4y</td>\n",
       "      <td>may</td>\n",
       "      <td>mon</td>\n",
       "      <td>1</td>\n",
       "      <td>no</td>\n",
       "      <td>4.025352</td>\n",
       "      <td>no</td>\n",
       "    </tr>\n",
       "  </tbody>\n",
       "</table>\n",
       "</div>"
      ],
      "text/plain": [
       "         job  marital education month day_of_week  Previous_Contacts   y  \\\n",
       "0  housemaid  married  basic.4y   may         mon                  1  no   \n",
       "\n",
       "    log_age Any_Loans  \n",
       "0  4.025352        no  "
      ]
     },
     "execution_count": 52,
     "metadata": {},
     "output_type": "execute_result"
    }
   ],
   "source": [
    "df.head(1)"
   ]
  },
  {
   "cell_type": "code",
   "execution_count": 53,
   "id": "0e483cb8",
   "metadata": {},
   "outputs": [],
   "source": [
    "# I am merging some classes together\n",
    "df['education'] = df['education'].replace(['basic.4y','basic.6y','basic.9y'],'elementary')\n",
    "df['y'] = df['y'].replace(['no'],0)\n",
    "df['y'] = df['y'].replace(['yes'],1)"
   ]
  },
  {
   "cell_type": "code",
   "execution_count": null,
   "id": "6fe1a7b7",
   "metadata": {},
   "outputs": [],
   "source": [
    "df.head()"
   ]
  },
  {
   "cell_type": "code",
   "execution_count": null,
   "id": "3c17fdab",
   "metadata": {},
   "outputs": [],
   "source": [
    "print(maheshanjali)"
   ]
  },
  {
   "cell_type": "code",
   "execution_count": null,
   "id": "31850446",
   "metadata": {},
   "outputs": [],
   "source": []
  },
  {
   "cell_type": "code",
   "execution_count": 54,
   "id": "3323b36a",
   "metadata": {},
   "outputs": [],
   "source": [
    "df['Month'] = df['month']\n",
    "df['Month'] = df['Month'].replace(['jan','feb','mar'],'First_Quarter')\n",
    "df['Month'] = df['Month'].replace(['apr','may','jun'],'Second_Quarter')\n",
    "df['Month'] = df['Month'].replace(['jul','aug','sep'],'Third_Quarter')\n",
    "df['Month'] = df['Month'].replace(['oct','nov','dec'],'Fourth_Quarter')\n",
    "df.drop('month',axis=1,inplace=True)"
   ]
  },
  {
   "cell_type": "code",
   "execution_count": null,
   "id": "bc681740",
   "metadata": {},
   "outputs": [],
   "source": [
    "df.head(3)"
   ]
  },
  {
   "cell_type": "code",
   "execution_count": null,
   "id": "41f70255",
   "metadata": {},
   "outputs": [],
   "source": [
    "df['Month'].value_counts()"
   ]
  },
  {
   "cell_type": "code",
   "execution_count": null,
   "id": "1b99bfdd",
   "metadata": {},
   "outputs": [],
   "source": []
  },
  {
   "cell_type": "code",
   "execution_count": null,
   "id": "83747aae",
   "metadata": {},
   "outputs": [],
   "source": []
  },
  {
   "cell_type": "code",
   "execution_count": null,
   "id": "620fec1d",
   "metadata": {},
   "outputs": [],
   "source": []
  },
  {
   "cell_type": "code",
   "execution_count": 55,
   "id": "300e7b8e",
   "metadata": {},
   "outputs": [],
   "source": [
    "x = df.drop('y',axis=1)\n",
    "y = df['y']"
   ]
  },
  {
   "cell_type": "code",
   "execution_count": null,
   "id": "3582ef99",
   "metadata": {},
   "outputs": [],
   "source": [
    "x"
   ]
  },
  {
   "cell_type": "code",
   "execution_count": null,
   "id": "67aa2246",
   "metadata": {},
   "outputs": [],
   "source": [
    "y"
   ]
  },
  {
   "cell_type": "code",
   "execution_count": null,
   "id": "87a731d2",
   "metadata": {},
   "outputs": [],
   "source": []
  },
  {
   "cell_type": "code",
   "execution_count": 56,
   "id": "0c3ef0db",
   "metadata": {},
   "outputs": [],
   "source": [
    "from sklearn.model_selection import train_test_split as tts\n",
    "x_train,x_test,y_train,y_test = tts(x,y,test_size=0.15,random_state=6,stratify=y)"
   ]
  },
  {
   "cell_type": "code",
   "execution_count": 57,
   "id": "05689839",
   "metadata": {},
   "outputs": [
    {
     "data": {
      "text/plain": [
       "((35009, 8), (6179, 8))"
      ]
     },
     "execution_count": 57,
     "metadata": {},
     "output_type": "execute_result"
    }
   ],
   "source": [
    "x_train.shape, x_test.shape"
   ]
  },
  {
   "cell_type": "code",
   "execution_count": 58,
   "id": "aa3dd3a3",
   "metadata": {},
   "outputs": [
    {
     "data": {
      "text/plain": [
       "((35009,), (6179,))"
      ]
     },
     "execution_count": 58,
     "metadata": {},
     "output_type": "execute_result"
    }
   ],
   "source": [
    "y_train.shape, y_test.shape"
   ]
  },
  {
   "cell_type": "code",
   "execution_count": null,
   "id": "9c4c434b",
   "metadata": {},
   "outputs": [],
   "source": []
  },
  {
   "cell_type": "code",
   "execution_count": null,
   "id": "da65fb9a",
   "metadata": {},
   "outputs": [],
   "source": []
  },
  {
   "cell_type": "code",
   "execution_count": null,
   "id": "b245922d",
   "metadata": {},
   "outputs": [],
   "source": []
  },
  {
   "cell_type": "code",
   "execution_count": 59,
   "id": "735b22f8",
   "metadata": {},
   "outputs": [],
   "source": [
    "from sklearn.compose import ColumnTransformer\n",
    "from sklearn.pipeline import make_pipeline, Pipeline\n",
    "from sklearn.preprocessing import OneHotEncoder"
   ]
  },
  {
   "cell_type": "code",
   "execution_count": 60,
   "id": "5f184d5f",
   "metadata": {},
   "outputs": [],
   "source": [
    "from sklearn.linear_model import LogisticRegression\n",
    "from sklearn.tree import DecisionTreeClassifier\n",
    "from sklearn.ensemble import RandomForestClassifier\n",
    "from sklearn.naive_bayes import GaussianNB\n",
    "from sklearn.ensemble import GradientBoostingClassifier"
   ]
  },
  {
   "cell_type": "code",
   "execution_count": 61,
   "id": "dbb54122",
   "metadata": {},
   "outputs": [],
   "source": [
    "from sklearn.metrics import accuracy_score\n",
    "from sklearn.metrics import recall_score,precision_score,f1_score\n",
    "from xgboost import XGBClassifier\n",
    "from xgboost import XGBRFClassifier"
   ]
  },
  {
   "cell_type": "code",
   "execution_count": 62,
   "id": "20803e79",
   "metadata": {},
   "outputs": [
    {
     "data": {
      "text/html": [
       "<div>\n",
       "<style scoped>\n",
       "    .dataframe tbody tr th:only-of-type {\n",
       "        vertical-align: middle;\n",
       "    }\n",
       "\n",
       "    .dataframe tbody tr th {\n",
       "        vertical-align: top;\n",
       "    }\n",
       "\n",
       "    .dataframe thead th {\n",
       "        text-align: right;\n",
       "    }\n",
       "</style>\n",
       "<table border=\"1\" class=\"dataframe\">\n",
       "  <thead>\n",
       "    <tr style=\"text-align: right;\">\n",
       "      <th></th>\n",
       "      <th>job</th>\n",
       "      <th>marital</th>\n",
       "      <th>education</th>\n",
       "      <th>day_of_week</th>\n",
       "      <th>Previous_Contacts</th>\n",
       "      <th>log_age</th>\n",
       "      <th>Any_Loans</th>\n",
       "      <th>Month</th>\n",
       "    </tr>\n",
       "  </thead>\n",
       "  <tbody>\n",
       "    <tr>\n",
       "      <th>15451</th>\n",
       "      <td>admin.</td>\n",
       "      <td>divorced</td>\n",
       "      <td>university.degree</td>\n",
       "      <td>fri</td>\n",
       "      <td>1</td>\n",
       "      <td>3.806662</td>\n",
       "      <td>no</td>\n",
       "      <td>Third_Quarter</td>\n",
       "    </tr>\n",
       "  </tbody>\n",
       "</table>\n",
       "</div>"
      ],
      "text/plain": [
       "          job   marital          education day_of_week  Previous_Contacts  \\\n",
       "15451  admin.  divorced  university.degree         fri                  1   \n",
       "\n",
       "        log_age Any_Loans          Month  \n",
       "15451  3.806662        no  Third_Quarter  "
      ]
     },
     "execution_count": 62,
     "metadata": {},
     "output_type": "execute_result"
    }
   ],
   "source": [
    "x_train.head(1)"
   ]
  },
  {
   "cell_type": "code",
   "execution_count": 63,
   "id": "b4789c16",
   "metadata": {},
   "outputs": [
    {
     "name": "stderr",
     "output_type": "stream",
     "text": [
      "C:\\Users\\MAHES\\anaconda3\\lib\\site-packages\\sklearn\\preprocessing\\_encoders.py:828: FutureWarning: `sparse` was renamed to `sparse_output` in version 1.2 and will be removed in 1.4. `sparse_output` is ignored unless you leave `sparse` to its default value.\n",
      "  warnings.warn(\n"
     ]
    }
   ],
   "source": [
    "ohe = OneHotEncoder(sparse=False,drop='first',handle_unknown = 'ignore')\n",
    "ohe.fit(x_train[['job','marital','education','day_of_week',\n",
    "                                 'Month','Any_Loans']])\n",
    "x_train_transformed = ohe.transform(x_train[['job','marital','education','day_of_week',\n",
    "                                 'Month','Any_Loans']])\n",
    "x_test_transformed =  ohe.transform(x_test[['job','marital','education','day_of_week',\n",
    "                                 'Month','Any_Loans']])"
   ]
  },
  {
   "cell_type": "code",
   "execution_count": 64,
   "id": "4d3a89f8",
   "metadata": {},
   "outputs": [
    {
     "data": {
      "text/plain": [
       "((35009, 29), (35009,))"
      ]
     },
     "execution_count": 64,
     "metadata": {},
     "output_type": "execute_result"
    }
   ],
   "source": [
    "x_train_transformed.shape,y_train.shape"
   ]
  },
  {
   "cell_type": "code",
   "execution_count": 65,
   "id": "6428181d",
   "metadata": {},
   "outputs": [],
   "source": [
    "from sklearn.model_selection import cross_val_score"
   ]
  },
  {
   "cell_type": "code",
   "execution_count": null,
   "id": "30f66134",
   "metadata": {},
   "outputs": [],
   "source": [
    "DT = DecisionTreeClassifier()\n",
    "DT.fit(x_train_transformed,y_train)\n",
    "pred1 = DT.predict(x_test_transformed)\n",
    "print(recall_score(np.array(y_test),pred1))"
   ]
  },
  {
   "cell_type": "code",
   "execution_count": null,
   "id": "d8fe55af",
   "metadata": {},
   "outputs": [],
   "source": [
    "RF =RandomForestClassifier(bootstrap=True,\n",
    " max_depth= 40,\n",
    " min_samples_leaf=5,\n",
    " n_estimators= 200)\n",
    "cross_val_recall = cross_val_score(RF,x_train_transformed,y_train,cv=5,scoring='recall')\n",
    "RF.fit(x_train_transformed,y_train)\n",
    "pred1 = RF.predict(x_test_transformed)\n",
    "print(recall_score(y_test,pred1))\n",
    "print(cross_val_recall.mean())"
   ]
  },
  {
   "cell_type": "code",
   "execution_count": null,
   "id": "dc8bb6ff",
   "metadata": {},
   "outputs": [],
   "source": [
    "from sklearn.model_selection import RandomizedSearchCV,GridSearchCV"
   ]
  },
  {
   "cell_type": "code",
   "execution_count": null,
   "id": "157c95e2",
   "metadata": {},
   "outputs": [],
   "source": [
    "params={\n",
    "'bootstrap': [True],\n",
    "    'max_depth': [i*10 for i in range(1,5)],\n",
    "    'min_samples_leaf': [5,10,15],\n",
    "    'n_estimators': [50,100,150,200],\n",
    "}"
   ]
  },
  {
   "cell_type": "code",
   "execution_count": null,
   "id": "44c74f71",
   "metadata": {},
   "outputs": [],
   "source": [
    "grid_search = GridSearchCV(estimator = RF, param_grid = params, \n",
    "                          cv = 5, n_jobs = -1, verbose = 2)"
   ]
  },
  {
   "cell_type": "code",
   "execution_count": null,
   "id": "6246da7e",
   "metadata": {},
   "outputs": [],
   "source": [
    "grid_search.fit(x_train_transformed, y_train)"
   ]
  },
  {
   "cell_type": "code",
   "execution_count": null,
   "id": "0256a888",
   "metadata": {},
   "outputs": [],
   "source": [
    "grid_search.best_params_"
   ]
  },
  {
   "cell_type": "code",
   "execution_count": null,
   "id": "7e2fe2b2",
   "metadata": {},
   "outputs": [],
   "source": []
  },
  {
   "cell_type": "code",
   "execution_count": 66,
   "id": "a2da1953",
   "metadata": {},
   "outputs": [
    {
     "name": "stdout",
     "output_type": "stream",
     "text": [
      "0.05028735632183908\n",
      "0.04994281308231061\n"
     ]
    }
   ],
   "source": [
    "XX =XGBClassifier()\n",
    "cross_val_recall = cross_val_score(XX,x_train_transformed,y_train,cv=10,scoring='recall')\n",
    "XX.fit(x_train_transformed,y_train)\n",
    "pred1 = XX.predict(x_test_transformed)\n",
    "print(recall_score(y_test,pred1))\n",
    "print(cross_val_recall.mean())"
   ]
  },
  {
   "cell_type": "code",
   "execution_count": null,
   "id": "89aee051",
   "metadata": {},
   "outputs": [],
   "source": []
  },
  {
   "cell_type": "code",
   "execution_count": 67,
   "id": "a4fff7ba",
   "metadata": {},
   "outputs": [],
   "source": [
    "from sklearn.naive_bayes import CategoricalNB"
   ]
  },
  {
   "cell_type": "code",
   "execution_count": 68,
   "id": "433d1ae9",
   "metadata": {},
   "outputs": [],
   "source": [
    "CNB = CategoricalNB()"
   ]
  },
  {
   "cell_type": "code",
   "execution_count": 69,
   "id": "2f75b662",
   "metadata": {},
   "outputs": [
    {
     "name": "stdout",
     "output_type": "stream",
     "text": [
      "0.05028735632183908\n",
      "0.01926971749885803\n"
     ]
    }
   ],
   "source": [
    "cross_val_recall = cross_val_score(CNB,x_train_transformed,y_train,cv=5,scoring='recall')\n",
    "CNB.fit(x_train_transformed,y_train)\n",
    "pred2 = CNB.predict(x_test_transformed)\n",
    "print(recall_score(y_test,pred1))\n",
    "print(cross_val_recall.mean())"
   ]
  },
  {
   "cell_type": "code",
   "execution_count": 70,
   "id": "5ce061b2",
   "metadata": {},
   "outputs": [
    {
     "name": "stdout",
     "output_type": "stream",
     "text": [
      "0.05028735632183908\n",
      "0.19599820086101652\n"
     ]
    }
   ],
   "source": [
    "NB = GaussianNB()\n",
    "cross_val_recall = cross_val_score(NB,x_train_transformed,y_train,cv=10,scoring='recall')\n",
    "NB.fit(x_train_transformed,y_train)\n",
    "pred2 = NB.predict(x_test_transformed)\n",
    "print(recall_score(y_test,pred1))\n",
    "print(cross_val_recall.mean())"
   ]
  },
  {
   "cell_type": "code",
   "execution_count": null,
   "id": "12b96014",
   "metadata": {},
   "outputs": [],
   "source": []
  },
  {
   "cell_type": "code",
   "execution_count": null,
   "id": "27d28773",
   "metadata": {},
   "outputs": [],
   "source": []
  },
  {
   "cell_type": "code",
   "execution_count": null,
   "id": "e743e7a2",
   "metadata": {},
   "outputs": [],
   "source": []
  },
  {
   "cell_type": "code",
   "execution_count": null,
   "id": "54caa6ca",
   "metadata": {},
   "outputs": [],
   "source": [
    "print(mahesh)"
   ]
  },
  {
   "cell_type": "code",
   "execution_count": null,
   "id": "825cac85",
   "metadata": {},
   "outputs": [],
   "source": [
    "x_train.head(1)"
   ]
  },
  {
   "cell_type": "code",
   "execution_count": null,
   "id": "e3e8b142",
   "metadata": {},
   "outputs": [],
   "source": [
    "step1 = ColumnTransformer([\n",
    "    ('ohe',OneHotEncoder(sparse=False,handle_unknown='ignore'),[1,2,3,4,5,8,9])\n",
    "],remainder='passthrough')"
   ]
  },
  {
   "cell_type": "code",
   "execution_count": null,
   "id": "088b0b16",
   "metadata": {},
   "outputs": [],
   "source": [
    "step2_LR = LogisticRegression()\n",
    "step2_DT  =DecisionTreeClassifier()\n",
    "step2_RF = RandomForestClassifier()\n",
    "step2_NB = GaussianNB()\n",
    "step2_GBM =GradientBoostingClassifier()\n",
    "step2_XGB = XGBClassifier()"
   ]
  },
  {
   "cell_type": "code",
   "execution_count": null,
   "id": "4d4ee211",
   "metadata": {},
   "outputs": [],
   "source": [
    "from sklearn.model_selection import cross_val_score"
   ]
  },
  {
   "cell_type": "markdown",
   "id": "9b926009",
   "metadata": {},
   "source": [
    "### Pipeline "
   ]
  },
  {
   "cell_type": "code",
   "execution_count": null,
   "id": "7975d552",
   "metadata": {},
   "outputs": [],
   "source": [
    "pipe_LR = Pipeline([\n",
    "    ('step1',step1),\n",
    "    ('step2',step2_LR)\n",
    "])"
   ]
  },
  {
   "cell_type": "code",
   "execution_count": null,
   "id": "2b871f10",
   "metadata": {},
   "outputs": [],
   "source": [
    "pipe_LR.fit(x_train,y_train)"
   ]
  },
  {
   "cell_type": "code",
   "execution_count": null,
   "id": "6a707211",
   "metadata": {},
   "outputs": [],
   "source": [
    "y_pred_LR = pipe_LR.predict(x_test)"
   ]
  },
  {
   "cell_type": "code",
   "execution_count": null,
   "id": "b2bcba78",
   "metadata": {},
   "outputs": [],
   "source": [
    "cv_score = cross_val_score(pipe_LR,x_train,y_train,scoring='recall')\n",
    "LR_acc = accuracy_score(y_test,y_pred_LR)\n",
    "LR_recall = recall_score(y_test,y_pred_LR)\n",
    "LR_pre = precision_score(y_test,y_pred_LR)\n",
    "LR_f1 = f1_score(y_test,y_pred_LR)\n",
    "print(\"            Logistic Regression              \")\n",
    "print()\n",
    "print(\"Accuracy:\",LR_acc)\n",
    "print(\"Recall:\",LR_recall)\n",
    "print(\"Precision:\",LR_pre)\n",
    "print(\"F1:\",LR_f1)\n",
    "print()\n",
    "print(cv_score.mean())\n"
   ]
  },
  {
   "cell_type": "code",
   "execution_count": null,
   "id": "4b4f6bbf",
   "metadata": {},
   "outputs": [],
   "source": []
  },
  {
   "cell_type": "code",
   "execution_count": null,
   "id": "5e87037a",
   "metadata": {},
   "outputs": [],
   "source": [
    "pipe_DT = Pipeline([\n",
    "    ('step1',step1),\n",
    "    ('step2',step2_DT)\n",
    "])"
   ]
  },
  {
   "cell_type": "code",
   "execution_count": null,
   "id": "6fe8fee2",
   "metadata": {},
   "outputs": [],
   "source": [
    "pipe_DT.fit(x_train,y_train)"
   ]
  },
  {
   "cell_type": "code",
   "execution_count": null,
   "id": "42056cda",
   "metadata": {},
   "outputs": [],
   "source": [
    "y_pred_DT = pipe_DT.predict(x_test)"
   ]
  },
  {
   "cell_type": "code",
   "execution_count": null,
   "id": "022fce4b",
   "metadata": {},
   "outputs": [],
   "source": [
    "cv_score = cross_val_score(pipe_DT,x_train,y_train,cv=5,scoring='recall')\n",
    "DT_acc = accuracy_score(y_test,y_pred_DT)\n",
    "DT_recall = recall_score(y_test,y_pred_DT)\n",
    "DT_pre = precision_score(y_test,y_pred_DT)\n",
    "DT_f1 = f1_score(y_test,y_pred_DT)\n",
    "print(\"            Decision Tree             \")\n",
    "print()\n",
    "print(\"Accuracy:\",DT_acc)\n",
    "print(\"Recall:\",DT_recall)\n",
    "print(\"Precision:\",DT_pre)\n",
    "print(\"F1:\",DT_f1)\n",
    "print(\"CV recall\",cv_score.mean())\n",
    "print()\n"
   ]
  },
  {
   "cell_type": "code",
   "execution_count": null,
   "id": "c5c8defb",
   "metadata": {},
   "outputs": [],
   "source": []
  },
  {
   "cell_type": "code",
   "execution_count": null,
   "id": "cb08716b",
   "metadata": {},
   "outputs": [],
   "source": [
    "pipe_RF = Pipeline([\n",
    "    ('step1',step1),\n",
    "    ('step2',step2_RF)\n",
    "])"
   ]
  },
  {
   "cell_type": "code",
   "execution_count": null,
   "id": "5a60600a",
   "metadata": {},
   "outputs": [],
   "source": [
    "from sklearn.model_selection import GridSearchCV,RandomizedSearchCV"
   ]
  },
  {
   "cell_type": "code",
   "execution_count": null,
   "id": "99d1930b",
   "metadata": {},
   "outputs": [],
   "source": []
  },
  {
   "cell_type": "code",
   "execution_count": null,
   "id": "3ed488c6",
   "metadata": {},
   "outputs": [],
   "source": [
    "pipe_RF.fit(x_train,y_train)"
   ]
  },
  {
   "cell_type": "code",
   "execution_count": null,
   "id": "d80038e3",
   "metadata": {},
   "outputs": [],
   "source": [
    "cv_score = cross_val_score(pipe_RF,x_train,y_train,cv=5,scoring='recall')\n",
    "y_pred_RF = pipe_RF.predict(x_test)\n",
    "RF_acc = accuracy_score(y_test,y_pred_RF)\n",
    "RF_recall = recall_score(y_test,y_pred_RF)\n",
    "RF_pre = precision_score(y_test,y_pred_RF)\n",
    "RF_f1 = f1_score(y_test,y_pred_RF)\n",
    "print(\"            Random Forest             \")\n",
    "print()\n",
    "print(\"Accuracy:\",RF_acc)\n",
    "print(\"Recall:\",RF_recall)\n",
    "print(\"Precision:\",RF_pre)\n",
    "print(\"F1:\",RF_f1)\n",
    "print()\n",
    "print(cv_score.mean())"
   ]
  },
  {
   "cell_type": "code",
   "execution_count": null,
   "id": "54e0f1ab",
   "metadata": {},
   "outputs": [],
   "source": []
  },
  {
   "cell_type": "code",
   "execution_count": null,
   "id": "75dfb1fb",
   "metadata": {},
   "outputs": [],
   "source": [
    "pipe_NB = Pipeline([\n",
    "    ('step1',step1),\n",
    "    ('step2',step2_NB)\n",
    "])"
   ]
  },
  {
   "cell_type": "code",
   "execution_count": null,
   "id": "98fcefb9",
   "metadata": {},
   "outputs": [],
   "source": [
    "pipe_NB.fit(x_train,y_train)"
   ]
  },
  {
   "cell_type": "code",
   "execution_count": null,
   "id": "6aa062eb",
   "metadata": {},
   "outputs": [],
   "source": [
    "cv_score = cross_val_score(pipe_NB,x_train,y_train,cv=5,scoring='recall')\n",
    "y_pred_NB = pipe_NB.predict(x_test)\n",
    "NB_acc = accuracy_score(y_test,y_pred_NB)\n",
    "NB_recall = recall_score(y_test,y_pred_NB)\n",
    "NB_pre = precision_score(y_test,y_pred_NB)\n",
    "NB_f1 = f1_score(y_test,y_pred_NB)\n",
    "print(\"            Naive Bayes             \")\n",
    "print()\n",
    "print(\"Accuracy:\",NB_acc)\n",
    "print(\"Recall:\",NB_recall)\n",
    "print(\"Precision:\",NB_pre)\n",
    "print(\"F1:\",NB_f1)\n",
    "print(\"cv score:recall\",cv_score.mean())"
   ]
  },
  {
   "cell_type": "code",
   "execution_count": null,
   "id": "0499dba2",
   "metadata": {},
   "outputs": [],
   "source": []
  },
  {
   "cell_type": "code",
   "execution_count": null,
   "id": "f8714bd7",
   "metadata": {},
   "outputs": [],
   "source": [
    "pipe_GBM = Pipeline([\n",
    "    ('step1',step1),\n",
    "    ('step2',step2_GBM)\n",
    "])"
   ]
  },
  {
   "cell_type": "code",
   "execution_count": null,
   "id": "2a5d3306",
   "metadata": {},
   "outputs": [],
   "source": [
    "pipe_GBM.fit(x_train,y_train)"
   ]
  },
  {
   "cell_type": "code",
   "execution_count": null,
   "id": "57363a57",
   "metadata": {},
   "outputs": [],
   "source": [
    "y_pred_GBM = pipe_GBM.predict(x_test)\n",
    "GBM_acc = accuracy_score(y_test,y_pred_GBM)\n",
    "GBM_recall = recall_score(y_test,y_pred_GBM)\n",
    "GBM_pre = precision_score(y_test,y_pred_GBM)\n",
    "GBM_f1 = f1_score(y_test,y_pred_GBM)\n",
    "print(\"         GBM            \")\n",
    "print()\n",
    "print(\"Accuracy:\",GBM_acc)\n",
    "print(\"Recall:\",GBM_recall)\n",
    "print(\"Precision:\",GBM_pre)\n",
    "print(\"F1:\",GBM_f1)\n",
    "print()"
   ]
  },
  {
   "cell_type": "code",
   "execution_count": null,
   "id": "eb2c3b30",
   "metadata": {},
   "outputs": [],
   "source": []
  },
  {
   "cell_type": "code",
   "execution_count": null,
   "id": "b86d879b",
   "metadata": {},
   "outputs": [],
   "source": [
    "pipe_XGB = Pipeline([\n",
    "    ('step1',step1),\n",
    "    ('step2',step2_XGB)\n",
    "])\n",
    "\n",
    "pipe_XGB.fit(x_train,y_train)\n",
    "cv_score = cross_val_score(pipe_XGB,x_train,y_train,cv=10,scoring='recall')\n",
    "y_pred_XGB = pipe_XGB.predict(x_test)\n",
    "XGB_acc = accuracy_score(y_test,y_pred_XGB)\n",
    "XGB_recall = recall_score(y_test,y_pred_XGB)\n",
    "XGB_pre = precision_score(y_test,y_pred_XGB)\n",
    "XGB_f1 = f1_score(y_test,y_pred_XGB)\n",
    "print(\"            XGB             \")\n",
    "print()\n",
    "print(\"Accuracy:\",XGB_acc)\n",
    "print(\"Recall:\",XGB_recall)\n",
    "print(\"Precision:\",XGB_pre)\n",
    "print(\"F1:\",XGB_f1)\n",
    "print(\"cv xgb\",cv_score.mean())\n",
    "print()"
   ]
  },
  {
   "cell_type": "markdown",
   "id": "926bb3bc",
   "metadata": {},
   "source": [
    "### Exporting the model"
   ]
  },
  {
   "cell_type": "code",
   "execution_count": null,
   "id": "55e07855",
   "metadata": {},
   "outputs": [],
   "source": [
    "# import pickle\n",
    "# pickle.dump(pipe_GBM,open('model.pkl','wb'))"
   ]
  },
  {
   "cell_type": "code",
   "execution_count": null,
   "id": "ab5f8d14",
   "metadata": {},
   "outputs": [],
   "source": []
  },
  {
   "cell_type": "code",
   "execution_count": null,
   "id": "32a56baa",
   "metadata": {},
   "outputs": [],
   "source": [
    "from sklearn.model_selection import KFold\n",
    "kf = KFold(n_splits=5)"
   ]
  }
 ],
 "metadata": {
  "kernelspec": {
   "display_name": "Python 3 (ipykernel)",
   "language": "python",
   "name": "python3"
  },
  "language_info": {
   "codemirror_mode": {
    "name": "ipython",
    "version": 3
   },
   "file_extension": ".py",
   "mimetype": "text/x-python",
   "name": "python",
   "nbconvert_exporter": "python",
   "pygments_lexer": "ipython3",
   "version": "3.10.9"
  }
 },
 "nbformat": 4,
 "nbformat_minor": 5
}
